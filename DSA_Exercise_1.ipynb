{
  "nbformat": 4,
  "nbformat_minor": 0,
  "metadata": {
    "colab": {
      "provenance": [],
      "authorship_tag": "ABX9TyPUAFmasUw7+UPjaWpyraXj",
      "include_colab_link": true
    },
    "kernelspec": {
      "name": "python3",
      "display_name": "Python 3"
    },
    "language_info": {
      "name": "python"
    }
  },
  "cells": [
    {
      "cell_type": "markdown",
      "metadata": {
        "id": "view-in-github",
        "colab_type": "text"
      },
      "source": [
        "<a href=\"https://colab.research.google.com/github/dmncjsph/DSA-CpE-010-CpE12S4/blob/main/DSA_Exercise_1.ipynb\" target=\"_parent\"><img src=\"https://colab.research.google.com/assets/colab-badge.svg\" alt=\"Open In Colab\"/></a>"
      ]
    },
    {
      "cell_type": "markdown",
      "source": [
        "Name: Virtucio, Dominic Joseph P.\n",
        "\n",
        "Course/Section: CPE 010/CPE21S4\n",
        "\n",
        "##**Exercise 1 (Class Constructor and Method)**\n",
        "1. Develop a Python program that computes the area of a Rectangle shape.\n",
        "2. Use Rectangle () as a class name.\n",
        "3. Use attributes length and width.\n",
        "4. Calculate the Area() of the rectangle.\n",
        "5. Display the computed area of a rectangle.\n",
        "\n",
        "Note: OOP concepts of computing the area of a rectangle\n",
        "\n"
      ],
      "metadata": {
        "id": "Q7Aa6Q01ma4Z"
      }
    },
    {
      "cell_type": "code",
      "source": [
        "class rectangle:\n",
        "    def __init__(self, l, w):\n",
        "        self.length = l\n",
        "        self.width = w\n",
        "\n",
        "    def Area(self):\n",
        "        return self.length * self.width\n",
        "\n",
        "\n",
        "l = float(input(\"Enter the length of the rectangle: \"))\n",
        "w = float(input(\"Enter the width of the rectangle: \"))\n",
        "\n",
        "r = rectangle(l, w)\n",
        "print(\"The area of the rectangle is: \", r.Area())\n"
      ],
      "metadata": {
        "colab": {
          "base_uri": "https://localhost:8080/"
        },
        "id": "kjcnH9W5rlXI",
        "outputId": "1e54a928-2e08-4801-b72e-d11e89e53eb3"
      },
      "execution_count": 3,
      "outputs": [
        {
          "output_type": "stream",
          "name": "stdout",
          "text": [
            "Enter the length of the rectangle: 90\n",
            "Enter the width of the rectangle: 90\n",
            "The area of the rectangle is:  8100.0\n"
          ]
        }
      ]
    }
  ]
}