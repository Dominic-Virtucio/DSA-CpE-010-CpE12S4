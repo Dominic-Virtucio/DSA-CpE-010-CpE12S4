{
  "nbformat": 4,
  "nbformat_minor": 0,
  "metadata": {
    "colab": {
      "provenance": [],
      "authorship_tag": "ABX9TyPeq+EvM9lSKXGWpKpFTilF",
      "include_colab_link": true
    },
    "kernelspec": {
      "name": "python3",
      "display_name": "Python 3"
    },
    "language_info": {
      "name": "python"
    }
  },
  "cells": [
    {
      "cell_type": "markdown",
      "metadata": {
        "id": "view-in-github",
        "colab_type": "text"
      },
      "source": [
        "<a href=\"https://colab.research.google.com/github/dmncjsph/DSA-CpE-010-CpE12S4/blob/main/Exercise_2_DSA.ipynb\" target=\"_parent\"><img src=\"https://colab.research.google.com/assets/colab-badge.svg\" alt=\"Open In Colab\"/></a>"
      ]
    },
    {
      "cell_type": "code",
      "execution_count": 12,
      "metadata": {
        "colab": {
          "base_uri": "https://localhost:8080/"
        },
        "id": "GeF5Oamouh-Z",
        "outputId": "be2e258d-d1ae-495c-84d7-114d5223808c"
      },
      "outputs": [
        {
          "output_type": "stream",
          "name": "stdout",
          "text": [
            "The area of the rectangle is: 50\n",
            "The area of the square is: 49\n",
            "The area of the triangle is: 24.0\n"
          ]
        }
      ],
      "source": [
        "class Shapes:\n",
        "    def __init__(self, length=0, width=0, side=0, base=0, height=0):\n",
        "        self.length = length\n",
        "        self.width = width\n",
        "        self.side = side\n",
        "        self.base = base\n",
        "        self.height = height\n",
        "\n",
        "    def Area(self):\n",
        "        raise NotImplementedError(\"Subclasses must override this method.\")\n",
        "\n",
        "    @staticmethod\n",
        "    def Area_Rectangle(length, width):\n",
        "        return length * width\n",
        "\n",
        "    @staticmethod\n",
        "    def Area_Square(side):\n",
        "        return side * side\n",
        "\n",
        "    @staticmethod\n",
        "    def Area_Triangle(base, height):\n",
        "        return 0.5 * base * height\n",
        "\n",
        "\n",
        "class Rectangle(Shapes):\n",
        "    def __init__(self, length, width):\n",
        "        super().__init__(length=length, width=width)\n",
        "\n",
        "    def Area(self):\n",
        "        return Shapes.Area_Rectangle(self.length, self.width)\n",
        "\n",
        "\n",
        "class Square(Shapes):\n",
        "    def __init__(self, side):\n",
        "        super().__init__(side=side)\n",
        "\n",
        "    def Area(self):\n",
        "        return Shapes.Area_Square(self.side)\n",
        "\n",
        "\n",
        "class Triangle(Shapes):\n",
        "    def __init__(self, base, height):\n",
        "        super().__init__(base=base, height=height)\n",
        "\n",
        "    def Area(self):\n",
        "        return Shapes.Area_Triangle(self.base, self.height)\n",
        "\n",
        "\n",
        "def main():\n",
        "    r_length = 10\n",
        "    r_width = 5\n",
        "    rect = Rectangle(r_length, r_width)\n",
        "    print(\"The area of the rectangle is:\", rect.Area())\n",
        "\n",
        "    square_side = 7\n",
        "    square = Square(square_side)\n",
        "    print(\"The area of the square is:\", square.Area())\n",
        "\n",
        "    tri_base = 8\n",
        "    tri_height = 6\n",
        "    tri = Triangle(tri_base, tri_height)\n",
        "    print(\"The area of the triangle is:\", tri.Area())\n",
        "\n",
        "if __name__ == \"__main__\":\n",
        "    main()\n"
      ]
    }
  ]
}