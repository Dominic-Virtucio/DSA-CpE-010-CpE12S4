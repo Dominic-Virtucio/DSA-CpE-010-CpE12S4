{
  "nbformat": 4,
  "nbformat_minor": 0,
  "metadata": {
    "colab": {
      "provenance": [],
      "authorship_tag": "ABX9TyOg+YwFQ45c4jlRvUN4crIB",
      "include_colab_link": true
    },
    "kernelspec": {
      "name": "python3",
      "display_name": "Python 3"
    },
    "language_info": {
      "name": "python"
    }
  },
  "cells": [
    {
      "cell_type": "markdown",
      "metadata": {
        "id": "view-in-github",
        "colab_type": "text"
      },
      "source": [
        "<a href=\"https://colab.research.google.com/github/Dominic-Virtucio/DSA-CpE-010-CpE12S4/blob/main/Exercise_3_DSA.ipynb\" target=\"_parent\"><img src=\"https://colab.research.google.com/assets/colab-badge.svg\" alt=\"Open In Colab\"/></a>"
      ]
    },
    {
      "cell_type": "code",
      "source": [
        "def AreaCircle(r):\n",
        "  pi = 3.1416\n",
        "  return pi * (r*r);\n",
        "\n",
        "print(\"Area is %.3f\" % AreaCircle(5))"
      ],
      "metadata": {
        "colab": {
          "base_uri": "https://localhost:8080/"
        },
        "id": "LuBCCOo25Nie",
        "outputId": "cc979ba3-be94-48f0-9621-0552bcc01d26"
      },
      "execution_count": 3,
      "outputs": [
        {
          "output_type": "stream",
          "name": "stdout",
          "text": [
            "Area is 78.540\n"
          ]
        }
      ]
    },
    {
      "cell_type": "code",
      "source": [
        "#Accessing the Elemnts in the array\n",
        "animals = ['cat', 'monkey', 'dog', 'fish']\n",
        "x = animals[0]\n",
        "print(x)\n",
        "\n"
      ],
      "metadata": {
        "colab": {
          "base_uri": "https://localhost:8080/"
        },
        "id": "jAiLaxPC3U9L",
        "outputId": "c1a29dab-7615-4aac-9d7f-043333551be7"
      },
      "execution_count": null,
      "outputs": [
        {
          "output_type": "stream",
          "name": "stdout",
          "text": [
            "cat\n"
          ]
        }
      ]
    },
    {
      "cell_type": "code",
      "source": [
        "#Modifying the Elemnts in the array\n",
        "animals = ['cat', 'monkey', 'dog', 'fish']\n",
        "animals[0] = 'monkey'\n",
        "x = animals[0]\n",
        "print(x)\n"
      ],
      "metadata": {
        "colab": {
          "base_uri": "https://localhost:8080/"
        },
        "id": "xyvuDMF93Urj",
        "outputId": "664b44bc-9efe-44fe-c93a-1ebd7f2b35b7"
      },
      "execution_count": null,
      "outputs": [
        {
          "output_type": "stream",
          "name": "stdout",
          "text": [
            "monkey\n"
          ]
        }
      ]
    },
    {
      "cell_type": "code",
      "source": [
        "#Lenghth of the array\n",
        "animals = ['cat', 'monkey', 'dog', 'fish']\n",
        "animals[0] = 'monkey'\n",
        "x = len(animals)\n",
        "print(x)"
      ],
      "metadata": {
        "colab": {
          "base_uri": "https://localhost:8080/"
        },
        "id": "95RsRT7M3UUY",
        "outputId": "6cc188e4-251e-4608-f29b-0389ba9c076e"
      },
      "execution_count": null,
      "outputs": [
        {
          "output_type": "stream",
          "name": "stdout",
          "text": [
            "4\n"
          ]
        }
      ]
    },
    {
      "cell_type": "code",
      "source": [
        "#Looping Arrays\n",
        "animals = ['cat', 'monkey', 'dog', 'fish']\n",
        "for x in animals:\n",
        "    print(x)"
      ],
      "metadata": {
        "colab": {
          "base_uri": "https://localhost:8080/"
        },
        "id": "j4IxQOkn35Sj",
        "outputId": "b78ecaec-6016-403a-c758-145b9b428f75"
      },
      "execution_count": null,
      "outputs": [
        {
          "output_type": "stream",
          "name": "stdout",
          "text": [
            "cat\n",
            "monkey\n",
            "dog\n",
            "fish\n"
          ]
        }
      ]
    },
    {
      "cell_type": "code",
      "execution_count": null,
      "metadata": {
        "colab": {
          "base_uri": "https://localhost:8080/"
        },
        "id": "QA39MzRV1XiQ",
        "outputId": "2fdfd7d1-19ab-4aa2-efb1-9c93fab05f0b"
      },
      "outputs": [
        {
          "output_type": "stream",
          "name": "stdout",
          "text": [
            "['monkey', 'cat', 'fish']\n"
          ]
        }
      ],
      "source": [
        "#Remove an item in the arra lists\n",
        "animals = [\"monkey\", \"cat\", \"dog\", \"fish\"]\n",
        "animals.pop(2)\n",
        "print(animals)"
      ]
    },
    {
      "cell_type": "code",
      "source": [
        "#Inserting an animal in a specific location using insert()\n",
        "animals = [\"monkey\", \"cat\", \"dog\", \"fish\"]\n",
        "animals.insert(3,\"hamster\")\n",
        "print(animals)"
      ],
      "metadata": {
        "colab": {
          "base_uri": "https://localhost:8080/"
        },
        "id": "66zVh4gs2BhR",
        "outputId": "4984cf9f-f5c8-4f9b-fb6e-f1d621340a2d"
      },
      "execution_count": null,
      "outputs": [
        {
          "output_type": "stream",
          "name": "stdout",
          "text": [
            "['monkey', 'cat', 'dog', 'hamster', 'fish']\n"
          ]
        }
      ]
    },
    {
      "cell_type": "code",
      "source": [
        "#Reverse all items in the list using  reverse()\n",
        "\n",
        "animals = [\"monkey\", \"cat\", \"dog\", \"fish\"]\n",
        "animals.reverse()\n",
        "print(animals)"
      ],
      "metadata": {
        "colab": {
          "base_uri": "https://localhost:8080/"
        },
        "id": "aixeU31n2l4v",
        "outputId": "0bfb2f0d-f1f9-482a-97e9-745448fdc666"
      },
      "execution_count": null,
      "outputs": [
        {
          "output_type": "stream",
          "name": "stdout",
          "text": [
            "['fish', 'dog', 'cat', 'monkey']\n"
          ]
        }
      ]
    },
    {
      "cell_type": "code",
      "source": [],
      "metadata": {
        "id": "0CfR2tac3J5E"
      },
      "execution_count": null,
      "outputs": []
    }
  ]
}